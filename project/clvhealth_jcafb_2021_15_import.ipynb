{
 "cells": [
  {
   "cell_type": "markdown",
   "id": "678e4bc0-2b26-40fb-b7d4-6655dbc073a1",
   "metadata": {},
   "source": [
    "# Importação dos dados do Banco de Dados \"clvhealth_jcafb_2021_15\""
   ]
  },
  {
   "cell_type": "markdown",
   "id": "5443b206-d73c-4df7-a900-2ae88e5bb1bb",
   "metadata": {},
   "source": [
    "## Leitura das Credenciais"
   ]
  },
  {
   "cell_type": "code",
   "execution_count": 1,
   "id": "9ff527b2-943f-4847-9e3e-ee845e77f8d9",
   "metadata": {},
   "outputs": [],
   "source": [
    "import pandas as pd\n",
    "\n",
    "hosts = pd.read_csv('data/host.csv', delimiter=';', index_col='name')\n",
    "def creds(index, col_name):\n",
    "    return hosts.at[index, col_name]\n",
    "\n",
    "# print(hosts)"
   ]
  },
  {
   "cell_type": "markdown",
   "id": "03e03631-7a61-4dc8-aa3d-ad9d81732cbf",
   "metadata": {},
   "source": [
    "## Parâmetros globais"
   ]
  },
  {
   "cell_type": "code",
   "execution_count": 2,
   "id": "fa0af243-a136-45c8-87f4-5b70ff30a561",
   "metadata": {},
   "outputs": [],
   "source": [
    "import logging\n",
    "import sqlite3\n",
    "\n",
    "logging.basicConfig(level=logging.DEBUG)\n",
    "_logger = logging.getLogger(__name__)\n"
   ]
  },
  {
   "cell_type": "code",
   "execution_count": 3,
   "id": "115bb668-0d18-44e8-9841-fc85448afb04",
   "metadata": {},
   "outputs": [],
   "source": [
    "from xmlrpc import client\n",
    "\n",
    "host_name = 'tkl-odoo15-jcafb21-vm'\n",
    "\n",
    "server_url = creds(host_name, 'server')\n",
    "db_name = creds(host_name, 'dbname')\n",
    "username = creds(host_name, 'user')\n",
    "password = creds(host_name, 'user_pw')\n",
    "\n",
    "sqlite3_db_name = 'data/jcafb_2021_15.db'\n"
   ]
  },
  {
   "cell_type": "code",
   "execution_count": 4,
   "id": "2f46dece-04fd-4e0a-a681-a6062ba25492",
   "metadata": {},
   "outputs": [],
   "source": [
    "from clvsol_odoo15_jcafb21_lib import *"
   ]
  },
  {
   "cell_type": "code",
   "execution_count": 5,
   "id": "1a3ccbb8-d178-48ac-93ce-7a7b2d180b5a",
   "metadata": {},
   "outputs": [],
   "source": [
    "from time import time\n",
    "from datetime import timedelta\n",
    "\n",
    "def secondsToStr(t):\n",
    "    return str(timedelta(seconds=t))\n",
    "\n",
    "start_import = time()\n"
   ]
  },
  {
   "cell_type": "markdown",
   "id": "6f251068-ca8a-4854-84c6-09ab4519c0ba",
   "metadata": {},
   "source": [
    "## Importação dos dados de \"res.country\""
   ]
  },
  {
   "cell_type": "code",
   "execution_count": 6,
   "id": "41653345-f263-44a2-b9d1-8957ce7e473e",
   "metadata": {},
   "outputs": [
    {
     "name": "stderr",
     "output_type": "stream",
     "text": [
      "INFO:clvsol_odoo15_jcafb21_lib.res_country:--> get_sqlite http://192.168.25.204:8069 clvhealth_jcafb_2021v_15\n",
      "INFO:clvsol_odoo15_jcafb21_lib.res_country:--> Execution time: 0:00:00.379769 \n",
      "\n"
     ]
    }
   ],
   "source": [
    "res_country = res_country.get_sqlite(server_url, db_name, username, password, sqlite3_db_name, initialize=False)\n"
   ]
  },
  {
   "cell_type": "markdown",
   "id": "17073ee3-2f44-4619-83e1-5ef354b02c37",
   "metadata": {},
   "source": [
    "## Importação dos dados de \"res.partner\""
   ]
  },
  {
   "cell_type": "code",
   "execution_count": 7,
   "id": "9e7593be-37b0-483e-b2d5-0c7835d9ada1",
   "metadata": {},
   "outputs": [],
   "source": [
    "# res_partner = res_partner.get_sqlite(server_url, db_name, username, password, initialize=False)\n"
   ]
  },
  {
   "cell_type": "markdown",
   "id": "313c13f2-2920-4693-ad9f-c44e671d2c26",
   "metadata": {},
   "source": [
    "## Importação dos dados de \"res.company\""
   ]
  },
  {
   "cell_type": "code",
   "execution_count": 8,
   "id": "6a712d0f-8086-4176-a2f8-183ac061f65c",
   "metadata": {},
   "outputs": [
    {
     "name": "stderr",
     "output_type": "stream",
     "text": [
      "INFO:clvsol_odoo15_jcafb21_lib.res_company:--> get_sqlite http://192.168.25.204:8069 clvhealth_jcafb_2021v_15\n",
      "INFO:clvsol_odoo15_jcafb21_lib.res_company:--> Execution time: 0:00:00.124613 \n",
      "\n"
     ]
    }
   ],
   "source": [
    "res_company = res_company.get_sqlite(server_url, db_name, username, password, sqlite3_db_name, initialize=False)\n"
   ]
  },
  {
   "cell_type": "markdown",
   "id": "ae008b9d-363b-4c51-8092-98361aa7f752",
   "metadata": {},
   "source": [
    "## Importação dos dados de \"res.users\""
   ]
  },
  {
   "cell_type": "code",
   "execution_count": 9,
   "id": "6e222359-efce-45f8-b72f-57f3fb6c7a7e",
   "metadata": {},
   "outputs": [
    {
     "name": "stderr",
     "output_type": "stream",
     "text": [
      "INFO:clvsol_odoo15_jcafb21_lib.res_users:--> get_sqlite http://192.168.25.204:8069 clvhealth_jcafb_2021v_15\n",
      "INFO:clvsol_odoo15_jcafb21_lib.res_users:--> Execution time: 0:00:01.001412 \n",
      "\n"
     ]
    }
   ],
   "source": [
    "res_users = res_users.get_sqlite(server_url, db_name, username, password, sqlite3_db_name, initialize=False)\n"
   ]
  },
  {
   "cell_type": "markdown",
   "id": "57ad338b-6e56-4206-9f66-2565bd4c2599",
   "metadata": {},
   "source": [
    "## Importação dos dados de \"clv.phase\""
   ]
  },
  {
   "cell_type": "code",
   "execution_count": 10,
   "id": "bb8d0622-df49-43b1-83d7-a5f21b669b5d",
   "metadata": {},
   "outputs": [
    {
     "name": "stderr",
     "output_type": "stream",
     "text": [
      "INFO:clvsol_odoo15_jcafb21_lib.clv_phase:--> get_sqlite http://192.168.25.204:8069 clvhealth_jcafb_2021v_15\n",
      "INFO:clvsol_odoo15_jcafb21_lib.clv_phase:--> Execution time: 0:00:00.085653 \n",
      "\n"
     ]
    }
   ],
   "source": [
    "clv_phase = clv_phase.get_sqlite(server_url, db_name, username, password, sqlite3_db_name, initialize=False)\n"
   ]
  },
  {
   "cell_type": "markdown",
   "id": "2355dd09-bc80-4fd5-ae1f-a8ec16574f64",
   "metadata": {},
   "source": [
    "## Importação dos dados de \"clv.global_tag\""
   ]
  },
  {
   "cell_type": "code",
   "execution_count": 11,
   "id": "30da0b9c-a4cc-4cc0-94de-665982b26020",
   "metadata": {},
   "outputs": [
    {
     "name": "stderr",
     "output_type": "stream",
     "text": [
      "INFO:clvsol_odoo15_jcafb21_lib.clv_global_tag:--> get_sqlite http://192.168.25.204:8069 clvhealth_jcafb_2021v_15\n",
      "INFO:clvsol_odoo15_jcafb21_lib.clv_global_tag:--> Execution time: 0:00:00.074520 \n",
      "\n"
     ]
    }
   ],
   "source": [
    "clv_global_tag = clv_global_tag.get_sqlite(server_url, db_name, username, password, sqlite3_db_name, initialize=False)"
   ]
  },
  {
   "cell_type": "markdown",
   "id": "63ad10e3-2c4f-4584-85fc-22976c9470b8",
   "metadata": {},
   "source": [
    "## Importação dos dados de \"survey.survey\""
   ]
  },
  {
   "cell_type": "code",
   "execution_count": 12,
   "id": "e17437c5-4ad3-4e3f-89e8-79b7b8296f78",
   "metadata": {},
   "outputs": [
    {
     "name": "stderr",
     "output_type": "stream",
     "text": [
      "INFO:clvsol_odoo15_jcafb21_lib.survey_survey:--> get_sqlite http://192.168.25.204:8069 clvhealth_jcafb_2021v_15\n",
      "INFO:clvsol_odoo15_jcafb21_lib.survey_survey:--> Execution time: 0:00:00.098973 \n",
      "\n"
     ]
    }
   ],
   "source": [
    "survey_survey = survey_survey.get_sqlite(server_url, db_name, username, password, sqlite3_db_name, initialize=False)\n"
   ]
  },
  {
   "cell_type": "markdown",
   "id": "7492f6af-ca46-47f7-8762-ff2b5c622fd8",
   "metadata": {},
   "source": [
    "## Importação dos dados de \"survey.question\""
   ]
  },
  {
   "cell_type": "code",
   "execution_count": 13,
   "id": "04990fbf-4f6a-4e64-a077-0f7703b40f76",
   "metadata": {},
   "outputs": [],
   "source": [
    "# survey_question = survey_question.get_sqlite(server_url, db_name, username, password, sqlite3_db_name, initialize=False)"
   ]
  },
  {
   "cell_type": "markdown",
   "id": "697d7284-de62-48b7-b10c-d0d4301adeed",
   "metadata": {},
   "source": [
    "## Importação dos dados de \"survey.question_answer\""
   ]
  },
  {
   "cell_type": "code",
   "execution_count": 14,
   "id": "2f57fd4f-9894-42e1-884b-67670131bcb4",
   "metadata": {},
   "outputs": [],
   "source": [
    "# survey_question_answer = survey_question_answer.get_sqlite(server_url, db_name, username, password, sqlite3_db_name, initialize=False)"
   ]
  },
  {
   "cell_type": "markdown",
   "id": "507ade65-37e2-4cd8-bc98-8fb045fc61e3",
   "metadata": {},
   "source": [
    "## Importação dos dados de \"survey.user_input\""
   ]
  },
  {
   "cell_type": "code",
   "execution_count": 15,
   "id": "6d46d3e0-9f1f-4d77-98d8-19865fce8c1d",
   "metadata": {},
   "outputs": [],
   "source": [
    "# survey_user_input = survey_user_input.get_sqlite(server_url, db_name, username, password, sqlite3_db_name, initialize=False)"
   ]
  },
  {
   "cell_type": "markdown",
   "id": "e85c7ba1-1605-4b8e-90c0-bdf866b7e79a",
   "metadata": {},
   "source": [
    "## Importação dos dados de \"survey.user_input.line\""
   ]
  },
  {
   "cell_type": "code",
   "execution_count": 16,
   "id": "48920f8b-ef12-4060-8887-2a79cce1a4b2",
   "metadata": {},
   "outputs": [],
   "source": [
    "# # search_domain = [('id', '>', 62000), ('id', '<=', 70000)]\n",
    "# search_domain = [('id', '<=', 70000)]\n",
    "# survey_user_input_line.get_sqlite(server_url, db_name, username, password, sqlite3_db_name,\n",
    "#                                   search_domain, clear_table=True, initialize=False)\n",
    "\n",
    "# search_domain = [('id', '>', 70000), ('id', '<=', 80000)]\n",
    "# survey_user_input_line.get_sqlite(server_url, db_name, username, password, sqlite3_db_name,\n",
    "#                                   search_domain, clear_table=False, initialize=False)\n",
    "\n",
    "# search_domain = [('id', '>', 80000), ('id', '<=', 90000)]\n",
    "# survey_user_input_line.get_sqlite(server_url, db_name, username, password, sqlite3_db_name,\n",
    "#                                   search_domain, clear_table=False, initialize=False)\n",
    "\n",
    "# search_domain = [('id', '>', 90000)]\n",
    "# survey_user_input_line.get_sqlite(server_url, db_name, username, password, sqlite3_db_name,\n",
    "#                                   search_domain, clear_table=False, initialize=False)"
   ]
  },
  {
   "cell_type": "markdown",
   "id": "61d6a4fc-fa1b-47ee-87dd-56b3b08f0fb2",
   "metadata": {},
   "source": [
    "## Importação dos dados de \"clv.partner_entity.street_pattern\""
   ]
  },
  {
   "cell_type": "code",
   "execution_count": 17,
   "id": "f0178e0a-4c23-49cf-a08e-4ab9cbb31a50",
   "metadata": {},
   "outputs": [
    {
     "name": "stderr",
     "output_type": "stream",
     "text": [
      "INFO:clvsol_odoo15_jcafb21_lib.clv_partner_entity_street_pattern:--> get_sqlite http://192.168.25.204:8069 clvhealth_jcafb_2021v_15\n",
      "INFO:clvsol_odoo15_jcafb21_lib.clv_partner_entity_street_pattern:--> Execution time: 0:00:00.123955 \n",
      "\n"
     ]
    }
   ],
   "source": [
    "clv_partner_entity_street_pattern = clv_partner_entity_street_pattern.get_sqlite(server_url, db_name, username, password, sqlite3_db_name, initialize=False)\n"
   ]
  },
  {
   "cell_type": "markdown",
   "id": "928c045e-fded-4c0b-9667-c4c6c6c9f40e",
   "metadata": {},
   "source": [
    "## Importação dos dados de \"clv.partner_entity.contact_information_pattern\""
   ]
  },
  {
   "cell_type": "code",
   "execution_count": 18,
   "id": "6a6e53cc-1948-48d5-a845-8b3941810315",
   "metadata": {},
   "outputs": [
    {
     "name": "stderr",
     "output_type": "stream",
     "text": [
      "INFO:clvsol_odoo15_jcafb21_lib.clv_partner_entity_contact_information_pattern:--> get_sqlite http://192.168.25.204:8069 clvhealth_jcafb_2021v_15\n",
      "INFO:clvsol_odoo15_jcafb21_lib.clv_partner_entity_contact_information_pattern:--> Execution time: 0:00:00.265977 \n",
      "\n"
     ]
    }
   ],
   "source": [
    "clv_partner_entity_contact_information_pattern = \\\n",
    "    clv_partner_entity_contact_information_pattern.get_sqlite(server_url, db_name, username, password, sqlite3_db_name, initialize=False)\n"
   ]
  },
  {
   "cell_type": "markdown",
   "id": "997c396f-25a2-4b00-a8e1-b68d71012976",
   "metadata": {},
   "source": [
    "## Importação dos dados de \"clv_patient_category\""
   ]
  },
  {
   "cell_type": "code",
   "execution_count": 19,
   "id": "32071591-b6c1-4787-a4a5-db6fee546b3b",
   "metadata": {},
   "outputs": [
    {
     "name": "stderr",
     "output_type": "stream",
     "text": [
      "INFO:clvsol_odoo15_jcafb21_lib.clv_patient_category:--> get_sqlite http://192.168.25.204:8069 clvhealth_jcafb_2021v_15\n",
      "INFO:clvsol_odoo15_jcafb21_lib.clv_patient_category:--> Execution time: 0:00:00.124710 \n",
      "\n"
     ]
    }
   ],
   "source": [
    "clv_patient_category = clv_patient_category.get_sqlite(server_url, db_name, username, password, sqlite3_db_name, initialize=False)\n"
   ]
  },
  {
   "cell_type": "markdown",
   "id": "e22fd838-6940-4873-8b9c-3e850ffc05bc",
   "metadata": {},
   "source": [
    "## Importação dos dados de \"clv_patient_marker\""
   ]
  },
  {
   "cell_type": "code",
   "execution_count": 20,
   "id": "33aff31a-d19e-4382-a9e7-35a312982269",
   "metadata": {},
   "outputs": [
    {
     "name": "stderr",
     "output_type": "stream",
     "text": [
      "INFO:clvsol_odoo15_jcafb21_lib.clv_patient_marker:--> get_sqlite http://192.168.25.204:8069 clvhealth_jcafb_2021v_15\n",
      "INFO:clvsol_odoo15_jcafb21_lib.clv_patient_marker:--> Execution time: 0:00:00.083615 \n",
      "\n"
     ]
    }
   ],
   "source": [
    "clv_patient_marker = clv_patient_marker.get_sqlite(server_url, db_name, username, password, sqlite3_db_name, initialize=False)\n"
   ]
  },
  {
   "cell_type": "markdown",
   "id": "f5c6b9c0-cf72-451b-829f-30d9cf86216f",
   "metadata": {},
   "source": [
    "## Importação dos dados de \"clv_patient_tag\""
   ]
  },
  {
   "cell_type": "code",
   "execution_count": 21,
   "id": "42723220-e891-4bcb-8886-f5687ed754c5",
   "metadata": {},
   "outputs": [
    {
     "name": "stderr",
     "output_type": "stream",
     "text": [
      "INFO:clvsol_odoo15_jcafb21_lib.clv_patient_tag:--> get_sqlite http://192.168.25.204:8069 clvhealth_jcafb_2021v_15\n",
      "INFO:clvsol_odoo15_jcafb21_lib.clv_patient_tag:--> Execution time: 0:00:00.116244 \n",
      "\n"
     ]
    }
   ],
   "source": [
    "clv_patient_tag = clv_patient_tag.get_sqlite(server_url, db_name, username, password, sqlite3_db_name, initialize=False)\n",
    "\n",
    "# print(patient_tags)\n"
   ]
  },
  {
   "cell_type": "markdown",
   "id": "2e57610c-b6ca-4063-a8d0-37dc8c39b3b0",
   "metadata": {},
   "source": [
    "## Importação dos dados de \"clv_patient\""
   ]
  },
  {
   "cell_type": "code",
   "execution_count": 22,
   "id": "e5822e10-b6e7-4cca-a1f0-2d938d5290aa",
   "metadata": {},
   "outputs": [
    {
     "name": "stderr",
     "output_type": "stream",
     "text": [
      "INFO:clvsol_odoo15_jcafb21_lib.clv_patient:--> get_sqlite http://192.168.25.204:8069 clvhealth_jcafb_2021v_15\n",
      "INFO:clvsol_odoo15_jcafb21_lib.clv_patient:--> Execution time: 0:00:01.926054 \n",
      "\n"
     ]
    }
   ],
   "source": [
    "clv_patient = clv_patient.get_sqlite(server_url, db_name, username, password, sqlite3_db_name,\n",
    "                                  clv_patient_category,\n",
    "                                  clv_patient_marker,\n",
    "                                  clv_patient_tag,\n",
    "                                  initialize=False)\n"
   ]
  },
  {
   "cell_type": "code",
   "execution_count": 23,
   "id": "46292d3b-336d-47bd-bd82-a72145a69d25",
   "metadata": {},
   "outputs": [
    {
     "name": "stdout",
     "output_type": "stream",
     "text": [
      "--> Execution time: 0:00:04.633755 \n",
      "\n"
     ]
    }
   ],
   "source": [
    "print('--> Execution time:', secondsToStr(time() - start_import), '\\n')\n"
   ]
  }
 ],
 "metadata": {
  "kernelspec": {
   "display_name": "Python 3 (ipykernel)",
   "language": "python",
   "name": "python3"
  },
  "language_info": {
   "codemirror_mode": {
    "name": "ipython",
    "version": 3
   },
   "file_extension": ".py",
   "mimetype": "text/x-python",
   "name": "python",
   "nbconvert_exporter": "python",
   "pygments_lexer": "ipython3",
   "version": "3.12.2"
  }
 },
 "nbformat": 4,
 "nbformat_minor": 5
}
