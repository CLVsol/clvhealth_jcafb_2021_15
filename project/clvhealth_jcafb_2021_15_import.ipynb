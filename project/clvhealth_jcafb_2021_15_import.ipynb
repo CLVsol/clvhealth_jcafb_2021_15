{
 "cells": [
  {
   "cell_type": "markdown",
   "id": "678e4bc0-2b26-40fb-b7d4-6655dbc073a1",
   "metadata": {},
   "source": [
    "# Importação dos dados do Banco de Dados \"clvhealth_jcafb_2021_15\""
   ]
  },
  {
   "cell_type": "markdown",
   "id": "5443b206-d73c-4df7-a900-2ae88e5bb1bb",
   "metadata": {},
   "source": [
    "## Leitura das Credenciais"
   ]
  },
  {
   "cell_type": "code",
   "execution_count": 1,
   "id": "9ff527b2-943f-4847-9e3e-ee845e77f8d9",
   "metadata": {},
   "outputs": [],
   "source": [
    "import pandas as pd\n",
    "\n",
    "hosts = pd.read_csv('data/host.csv', delimiter=';', index_col='name')\n",
    "def creds(index, col_name):\n",
    "    return hosts.at[index, col_name]\n",
    "\n",
    "# print(hosts)"
   ]
  },
  {
   "cell_type": "markdown",
   "id": "03e03631-7a61-4dc8-aa3d-ad9d81732cbf",
   "metadata": {},
   "source": [
    "## Parâmetros globais"
   ]
  },
  {
   "cell_type": "code",
   "execution_count": 2,
   "id": "fa0af243-a136-45c8-87f4-5b70ff30a561",
   "metadata": {},
   "outputs": [],
   "source": [
    "import logging\n",
    "import sqlite3\n",
    "\n",
    "logging.basicConfig(level=logging.DEBUG)\n",
    "_logger = logging.getLogger(__name__)\n"
   ]
  },
  {
   "cell_type": "code",
   "execution_count": 3,
   "id": "115bb668-0d18-44e8-9841-fc85448afb04",
   "metadata": {},
   "outputs": [],
   "source": [
    "from xmlrpc import client\n",
    "\n",
    "host_name = 'tkl-odoo15-jcafb21-vm'\n",
    "\n",
    "server_url = creds(host_name, 'server')\n",
    "db_name = creds(host_name, 'dbname')\n",
    "username = creds(host_name, 'user')\n",
    "password = creds(host_name, 'user_pw')\n",
    "\n",
    "sqlite3_db_name = 'data/jcafb_2021_15.db'\n"
   ]
  },
  {
   "cell_type": "code",
   "execution_count": 4,
   "id": "2f46dece-04fd-4e0a-a681-a6062ba25492",
   "metadata": {},
   "outputs": [],
   "source": [
    "from clvsol_odoo15_jcafb21_lib import *"
   ]
  },
  {
   "cell_type": "code",
   "execution_count": 5,
   "id": "1a3ccbb8-d178-48ac-93ce-7a7b2d180b5a",
   "metadata": {},
   "outputs": [],
   "source": [
    "from time import time\n",
    "from datetime import timedelta\n",
    "\n",
    "def secondsToStr(t):\n",
    "    return str(timedelta(seconds=t))\n",
    "\n",
    "start_import = time()\n"
   ]
  },
  {
   "cell_type": "markdown",
   "id": "6f251068-ca8a-4854-84c6-09ab4519c0ba",
   "metadata": {},
   "source": [
    "## Importação dos dados de \"res.country\""
   ]
  },
  {
   "cell_type": "code",
   "execution_count": 6,
   "id": "41653345-f263-44a2-b9d1-8957ce7e473e",
   "metadata": {},
   "outputs": [
    {
     "name": "stderr",
     "output_type": "stream",
     "text": [
      "INFO:clvsol_odoo15_jcafb21_lib.res_country:--> get_sqlite http://192.168.25.204:8069 clvhealth_jcafb_2021v_15\n",
      "INFO:clvsol_odoo15_jcafb21_lib.res_country:--> Execution time: 0:00:00.199977 \n",
      "\n"
     ]
    }
   ],
   "source": [
    "res_country = res_country.get_sqlite(server_url, db_name, username, password, sqlite3_db_name, initialize=False)\n"
   ]
  },
  {
   "cell_type": "markdown",
   "id": "17073ee3-2f44-4619-83e1-5ef354b02c37",
   "metadata": {},
   "source": [
    "## Importação dos dados de \"res.partner\""
   ]
  },
  {
   "cell_type": "code",
   "execution_count": 7,
   "id": "9e7593be-37b0-483e-b2d5-0c7835d9ada1",
   "metadata": {},
   "outputs": [
    {
     "name": "stderr",
     "output_type": "stream",
     "text": [
      "INFO:clvsol_odoo15_jcafb21_lib.res_partner:--> get_sqlite http://192.168.25.204:8069 clvhealth_jcafb_2021v_15\n",
      "INFO:clvsol_odoo15_jcafb21_lib.res_partner:--> Execution time: 0:00:03.579537 \n",
      "\n"
     ]
    }
   ],
   "source": [
    "res_partner = res_partner.get_sqlite(server_url, db_name, username, password, sqlite3_db_name, initialize=False)\n"
   ]
  },
  {
   "cell_type": "markdown",
   "id": "313c13f2-2920-4693-ad9f-c44e671d2c26",
   "metadata": {},
   "source": [
    "## Importação dos dados de \"res.company\""
   ]
  },
  {
   "cell_type": "code",
   "execution_count": 8,
   "id": "6a712d0f-8086-4176-a2f8-183ac061f65c",
   "metadata": {},
   "outputs": [
    {
     "name": "stderr",
     "output_type": "stream",
     "text": [
      "INFO:clvsol_odoo15_jcafb21_lib.res_company:--> get_sqlite http://192.168.25.204:8069 clvhealth_jcafb_2021v_15\n",
      "INFO:clvsol_odoo15_jcafb21_lib.res_company:--> Execution time: 0:00:00.121566 \n",
      "\n"
     ]
    }
   ],
   "source": [
    "res_company = res_company.get_sqlite(server_url, db_name, username, password, sqlite3_db_name, initialize=False)\n"
   ]
  },
  {
   "cell_type": "markdown",
   "id": "ae008b9d-363b-4c51-8092-98361aa7f752",
   "metadata": {},
   "source": [
    "## Importação dos dados de \"res.users\""
   ]
  },
  {
   "cell_type": "code",
   "execution_count": 9,
   "id": "6e222359-efce-45f8-b72f-57f3fb6c7a7e",
   "metadata": {},
   "outputs": [
    {
     "name": "stderr",
     "output_type": "stream",
     "text": [
      "INFO:clvsol_odoo15_jcafb21_lib.res_users:--> get_sqlite http://192.168.25.204:8069 clvhealth_jcafb_2021v_15\n",
      "INFO:clvsol_odoo15_jcafb21_lib.res_users:--> Execution time: 0:00:00.910017 \n",
      "\n"
     ]
    }
   ],
   "source": [
    "res_users = res_users.get_sqlite(server_url, db_name, username, password, sqlite3_db_name, initialize=False)\n"
   ]
  },
  {
   "cell_type": "markdown",
   "id": "57ad338b-6e56-4206-9f66-2565bd4c2599",
   "metadata": {},
   "source": [
    "## Importação dos dados de \"clv.phase\""
   ]
  },
  {
   "cell_type": "code",
   "execution_count": 10,
   "id": "bb8d0622-df49-43b1-83d7-a5f21b669b5d",
   "metadata": {},
   "outputs": [
    {
     "name": "stderr",
     "output_type": "stream",
     "text": [
      "INFO:clvsol_odoo15_jcafb21_lib.clv_phase:--> get_sqlite http://192.168.25.204:8069 clvhealth_jcafb_2021v_15\n",
      "INFO:clvsol_odoo15_jcafb21_lib.clv_phase:--> Execution time: 0:00:00.131198 \n",
      "\n"
     ]
    }
   ],
   "source": [
    "clv_phase = clv_phase.get_sqlite(server_url, db_name, username, password, sqlite3_db_name, initialize=False)\n"
   ]
  },
  {
   "cell_type": "markdown",
   "id": "2355dd09-bc80-4fd5-ae1f-a8ec16574f64",
   "metadata": {},
   "source": [
    "## Importação dos dados de \"clv.global_tag\""
   ]
  },
  {
   "cell_type": "code",
   "execution_count": 11,
   "id": "30da0b9c-a4cc-4cc0-94de-665982b26020",
   "metadata": {},
   "outputs": [
    {
     "name": "stderr",
     "output_type": "stream",
     "text": [
      "INFO:clvsol_odoo15_jcafb21_lib.clv_global_tag:--> get_sqlite http://192.168.25.204:8069 clvhealth_jcafb_2021v_15\n",
      "INFO:clvsol_odoo15_jcafb21_lib.clv_global_tag:--> Execution time: 0:00:00.115525 \n",
      "\n"
     ]
    }
   ],
   "source": [
    "clv_global_tag = clv_global_tag.get_sqlite(server_url, db_name, username, password, sqlite3_db_name, initialize=False)"
   ]
  },
  {
   "cell_type": "markdown",
   "id": "63ad10e3-2c4f-4584-85fc-22976c9470b8",
   "metadata": {},
   "source": [
    "## Importação dos dados de \"survey.survey\""
   ]
  },
  {
   "cell_type": "code",
   "execution_count": 12,
   "id": "e17437c5-4ad3-4e3f-89e8-79b7b8296f78",
   "metadata": {},
   "outputs": [
    {
     "name": "stderr",
     "output_type": "stream",
     "text": [
      "INFO:clvsol_odoo15_jcafb21_lib.survey_survey:--> get_sqlite http://192.168.25.204:8069 clvhealth_jcafb_2021v_15\n",
      "INFO:clvsol_odoo15_jcafb21_lib.survey_survey:--> Execution time: 0:00:00.217320 \n",
      "\n"
     ]
    }
   ],
   "source": [
    "survey_survey = survey_survey.get_sqlite(server_url, db_name, username, password, sqlite3_db_name, initialize=False)\n"
   ]
  },
  {
   "cell_type": "markdown",
   "id": "7492f6af-ca46-47f7-8762-ff2b5c622fd8",
   "metadata": {},
   "source": [
    "## Importação dos dados de \"survey.question\""
   ]
  },
  {
   "cell_type": "code",
   "execution_count": 13,
   "id": "04990fbf-4f6a-4e64-a077-0f7703b40f76",
   "metadata": {},
   "outputs": [
    {
     "name": "stderr",
     "output_type": "stream",
     "text": [
      "INFO:clvsol_odoo15_jcafb21_lib.survey_question:--> get_sqlite http://192.168.25.204:8069 clvhealth_jcafb_2021v_15\n",
      "INFO:clvsol_odoo15_jcafb21_lib.survey_question:--> Execution time: 0:00:02.302680 \n",
      "\n"
     ]
    }
   ],
   "source": [
    "survey_question = survey_question.get_sqlite(server_url, db_name, username, password, sqlite3_db_name, initialize=False)"
   ]
  },
  {
   "cell_type": "markdown",
   "id": "697d7284-de62-48b7-b10c-d0d4301adeed",
   "metadata": {},
   "source": [
    "## Importação dos dados de \"survey.question_answer\""
   ]
  },
  {
   "cell_type": "code",
   "execution_count": 14,
   "id": "2f57fd4f-9894-42e1-884b-67670131bcb4",
   "metadata": {},
   "outputs": [
    {
     "name": "stderr",
     "output_type": "stream",
     "text": [
      "INFO:clvsol_odoo15_jcafb21_lib.survey_question_answer:--> get_sqlite http://192.168.25.204:8069 clvhealth_jcafb_2021v_15\n",
      "INFO:clvsol_odoo15_jcafb21_lib.survey_question_answer:--> Execution time: 0:00:02.188262 \n",
      "\n"
     ]
    }
   ],
   "source": [
    "survey_question_answer = survey_question_answer.get_sqlite(server_url, db_name, username, password, sqlite3_db_name, initialize=False)"
   ]
  },
  {
   "cell_type": "markdown",
   "id": "507ade65-37e2-4cd8-bc98-8fb045fc61e3",
   "metadata": {},
   "source": [
    "## Importação dos dados de \"survey.user_input\""
   ]
  },
  {
   "cell_type": "code",
   "execution_count": 15,
   "id": "6d46d3e0-9f1f-4d77-98d8-19865fce8c1d",
   "metadata": {},
   "outputs": [
    {
     "name": "stderr",
     "output_type": "stream",
     "text": [
      "INFO:clvsol_odoo15_jcafb21_lib.survey_user_input:--> get_sqlite http://192.168.25.204:8069 clvhealth_jcafb_2021v_15\n",
      "INFO:clvsol_odoo15_jcafb21_lib.survey_user_input:--> Execution time: 0:00:03.306710 \n",
      "\n"
     ]
    }
   ],
   "source": [
    "survey_user_input = survey_user_input.get_sqlite(server_url, db_name, username, password, sqlite3_db_name, initialize=False)"
   ]
  },
  {
   "cell_type": "markdown",
   "id": "e85c7ba1-1605-4b8e-90c0-bdf866b7e79a",
   "metadata": {},
   "source": [
    "## Importação dos dados de \"survey.user_input.line\""
   ]
  },
  {
   "cell_type": "code",
   "execution_count": 16,
   "id": "a727f662-f949-4222-8a72-c4993d55aa58",
   "metadata": {},
   "outputs": [
    {
     "name": "stderr",
     "output_type": "stream",
     "text": [
      "INFO:clvsol_odoo15_jcafb21_lib.survey_user_input_line:--> search_domain: [('id', '<=', 5000)]\n",
      "INFO:clvsol_odoo15_jcafb21_lib.survey_user_input_line:--> get_sqlite http://192.168.25.204:8069 clvhealth_jcafb_2021v_15\n",
      "INFO:clvsol_odoo15_jcafb21_lib.survey_user_input_line:--> Execution time: 0:00:04.187224\n",
      "INFO:clvsol_odoo15_jcafb21_lib.survey_user_input_line:--> DataFrame Shape: (5000, 21) \n",
      "\n"
     ]
    }
   ],
   "source": [
    "search_domain = [('id', '<=', 5000)]\n",
    "survey_user_input_line.get_sqlite(server_url, db_name, username, password, sqlite3_db_name,\n",
    "                                  search_domain, clear_table=True, initialize=False)"
   ]
  },
  {
   "cell_type": "code",
   "execution_count": 17,
   "id": "6299e219-57bf-456b-971e-809f9b1d657b",
   "metadata": {},
   "outputs": [
    {
     "name": "stderr",
     "output_type": "stream",
     "text": [
      "INFO:clvsol_odoo15_jcafb21_lib.survey_user_input_line:--> search_domain: [('id', '>', 5000), ('id', '<=', 10000)]\n",
      "INFO:clvsol_odoo15_jcafb21_lib.survey_user_input_line:--> get_sqlite http://192.168.25.204:8069 clvhealth_jcafb_2021v_15\n",
      "INFO:clvsol_odoo15_jcafb21_lib.survey_user_input_line:--> Execution time: 0:00:04.000164\n",
      "INFO:clvsol_odoo15_jcafb21_lib.survey_user_input_line:--> DataFrame Shape: (5000, 21) \n",
      "\n"
     ]
    }
   ],
   "source": [
    "search_domain = [('id', '>', 5000), ('id', '<=', 10000)]\n",
    "survey_user_input_line.get_sqlite(server_url, db_name, username, password, sqlite3_db_name,\n",
    "                                  search_domain, clear_table=False, initialize=False)"
   ]
  },
  {
   "cell_type": "code",
   "execution_count": 18,
   "id": "2fbe9eb2-f17c-47ee-a4e2-cf96a59be0a9",
   "metadata": {},
   "outputs": [
    {
     "name": "stderr",
     "output_type": "stream",
     "text": [
      "INFO:clvsol_odoo15_jcafb21_lib.survey_user_input_line:--> search_domain: [('id', '>', 10000), ('id', '<=', 15000)]\n",
      "INFO:clvsol_odoo15_jcafb21_lib.survey_user_input_line:--> get_sqlite http://192.168.25.204:8069 clvhealth_jcafb_2021v_15\n",
      "INFO:clvsol_odoo15_jcafb21_lib.survey_user_input_line:--> Execution time: 0:00:03.924919\n",
      "INFO:clvsol_odoo15_jcafb21_lib.survey_user_input_line:--> DataFrame Shape: (5000, 21) \n",
      "\n"
     ]
    }
   ],
   "source": [
    "search_domain = [('id', '>', 10000), ('id', '<=', 15000)]\n",
    "survey_user_input_line.get_sqlite(server_url, db_name, username, password, sqlite3_db_name,\n",
    "                                  search_domain, clear_table=False, initialize=False)"
   ]
  },
  {
   "cell_type": "code",
   "execution_count": 19,
   "id": "d90f8eda-1c99-44a1-be50-d03369585102",
   "metadata": {},
   "outputs": [
    {
     "name": "stderr",
     "output_type": "stream",
     "text": [
      "INFO:clvsol_odoo15_jcafb21_lib.survey_user_input_line:--> search_domain: [('id', '>', 15000), ('id', '<=', 20000)]\n",
      "INFO:clvsol_odoo15_jcafb21_lib.survey_user_input_line:--> get_sqlite http://192.168.25.204:8069 clvhealth_jcafb_2021v_15\n",
      "INFO:clvsol_odoo15_jcafb21_lib.survey_user_input_line:--> Execution time: 0:00:03.834943\n",
      "INFO:clvsol_odoo15_jcafb21_lib.survey_user_input_line:--> DataFrame Shape: (5000, 21) \n",
      "\n"
     ]
    }
   ],
   "source": [
    "search_domain = [('id', '>', 15000), ('id', '<=', 20000)]\n",
    "survey_user_input_line.get_sqlite(server_url, db_name, username, password, sqlite3_db_name,\n",
    "                                  search_domain, clear_table=False, initialize=False)"
   ]
  },
  {
   "cell_type": "code",
   "execution_count": 20,
   "id": "e0929ee0-92a8-4e15-876b-ef0d7ea4058a",
   "metadata": {},
   "outputs": [
    {
     "name": "stderr",
     "output_type": "stream",
     "text": [
      "INFO:clvsol_odoo15_jcafb21_lib.survey_user_input_line:--> search_domain: [('id', '>', 20000), ('id', '<=', 25000)]\n",
      "INFO:clvsol_odoo15_jcafb21_lib.survey_user_input_line:--> get_sqlite http://192.168.25.204:8069 clvhealth_jcafb_2021v_15\n",
      "INFO:clvsol_odoo15_jcafb21_lib.survey_user_input_line:--> Execution time: 0:00:03.530272\n",
      "INFO:clvsol_odoo15_jcafb21_lib.survey_user_input_line:--> DataFrame Shape: (5000, 21) \n",
      "\n"
     ]
    }
   ],
   "source": [
    "search_domain = [('id', '>', 20000), ('id', '<=', 25000)]\n",
    "survey_user_input_line.get_sqlite(server_url, db_name, username, password, sqlite3_db_name,\n",
    "                                  search_domain, clear_table=False, initialize=False)"
   ]
  },
  {
   "cell_type": "code",
   "execution_count": 21,
   "id": "9ba0110e-fa68-4657-bf39-477d232fed68",
   "metadata": {},
   "outputs": [
    {
     "name": "stderr",
     "output_type": "stream",
     "text": [
      "INFO:clvsol_odoo15_jcafb21_lib.survey_user_input_line:--> search_domain: [('id', '>', 25000), ('id', '<=', 30000)]\n",
      "INFO:clvsol_odoo15_jcafb21_lib.survey_user_input_line:--> get_sqlite http://192.168.25.204:8069 clvhealth_jcafb_2021v_15\n",
      "INFO:clvsol_odoo15_jcafb21_lib.survey_user_input_line:--> Execution time: 0:00:03.496556\n",
      "INFO:clvsol_odoo15_jcafb21_lib.survey_user_input_line:--> DataFrame Shape: (5000, 21) \n",
      "\n"
     ]
    }
   ],
   "source": [
    "search_domain = [('id', '>', 25000), ('id', '<=', 30000)]\n",
    "survey_user_input_line.get_sqlite(server_url, db_name, username, password, sqlite3_db_name,\n",
    "                                  search_domain, clear_table=False, initialize=False)"
   ]
  },
  {
   "cell_type": "code",
   "execution_count": 22,
   "id": "558641be-ceb3-4d5e-8217-6ece15ca62bb",
   "metadata": {},
   "outputs": [
    {
     "name": "stderr",
     "output_type": "stream",
     "text": [
      "INFO:clvsol_odoo15_jcafb21_lib.survey_user_input_line:--> search_domain: [('id', '>', 30000), ('id', '<=', 35000)]\n",
      "INFO:clvsol_odoo15_jcafb21_lib.survey_user_input_line:--> get_sqlite http://192.168.25.204:8069 clvhealth_jcafb_2021v_15\n",
      "INFO:clvsol_odoo15_jcafb21_lib.survey_user_input_line:--> Execution time: 0:00:03.764013\n",
      "INFO:clvsol_odoo15_jcafb21_lib.survey_user_input_line:--> DataFrame Shape: (5000, 21) \n",
      "\n"
     ]
    }
   ],
   "source": [
    "search_domain = [('id', '>', 30000), ('id', '<=', 35000)]\n",
    "survey_user_input_line.get_sqlite(server_url, db_name, username, password, sqlite3_db_name,\n",
    "                                  search_domain, clear_table=False, initialize=False)"
   ]
  },
  {
   "cell_type": "code",
   "execution_count": 23,
   "id": "bd7beb42-c6c9-476a-80e4-ccec43082310",
   "metadata": {},
   "outputs": [
    {
     "name": "stderr",
     "output_type": "stream",
     "text": [
      "INFO:clvsol_odoo15_jcafb21_lib.survey_user_input_line:--> search_domain: [('id', '>', 35000), ('id', '<=', 40000)]\n",
      "INFO:clvsol_odoo15_jcafb21_lib.survey_user_input_line:--> get_sqlite http://192.168.25.204:8069 clvhealth_jcafb_2021v_15\n",
      "INFO:clvsol_odoo15_jcafb21_lib.survey_user_input_line:--> Execution time: 0:00:05.449347\n",
      "INFO:clvsol_odoo15_jcafb21_lib.survey_user_input_line:--> DataFrame Shape: (5000, 21) \n",
      "\n"
     ]
    }
   ],
   "source": [
    "search_domain = [('id', '>', 35000), ('id', '<=', 40000)]\n",
    "survey_user_input_line.get_sqlite(server_url, db_name, username, password, sqlite3_db_name,\n",
    "                                  search_domain, clear_table=False, initialize=False)"
   ]
  },
  {
   "cell_type": "code",
   "execution_count": 24,
   "id": "e9802997-3825-4530-afd2-00be38adb8ec",
   "metadata": {},
   "outputs": [
    {
     "name": "stderr",
     "output_type": "stream",
     "text": [
      "INFO:clvsol_odoo15_jcafb21_lib.survey_user_input_line:--> search_domain: [('id', '>', 40000), ('id', '<=', 45000)]\n",
      "INFO:clvsol_odoo15_jcafb21_lib.survey_user_input_line:--> get_sqlite http://192.168.25.204:8069 clvhealth_jcafb_2021v_15\n",
      "INFO:clvsol_odoo15_jcafb21_lib.survey_user_input_line:--> Execution time: 0:00:03.900020\n",
      "INFO:clvsol_odoo15_jcafb21_lib.survey_user_input_line:--> DataFrame Shape: (5000, 21) \n",
      "\n"
     ]
    }
   ],
   "source": [
    "search_domain = [('id', '>', 40000), ('id', '<=', 45000)]\n",
    "survey_user_input_line.get_sqlite(server_url, db_name, username, password, sqlite3_db_name,\n",
    "                                  search_domain, clear_table=False, initialize=False)"
   ]
  },
  {
   "cell_type": "code",
   "execution_count": 25,
   "id": "90e61e11-59f3-4dae-a1fd-905652f413b4",
   "metadata": {},
   "outputs": [
    {
     "name": "stderr",
     "output_type": "stream",
     "text": [
      "INFO:clvsol_odoo15_jcafb21_lib.survey_user_input_line:--> search_domain: [('id', '>', 45000), ('id', '<=', 50000)]\n",
      "INFO:clvsol_odoo15_jcafb21_lib.survey_user_input_line:--> get_sqlite http://192.168.25.204:8069 clvhealth_jcafb_2021v_15\n",
      "INFO:clvsol_odoo15_jcafb21_lib.survey_user_input_line:--> Execution time: 0:00:03.331943\n",
      "INFO:clvsol_odoo15_jcafb21_lib.survey_user_input_line:--> DataFrame Shape: (5000, 21) \n",
      "\n"
     ]
    }
   ],
   "source": [
    "search_domain = [('id', '>', 45000), ('id', '<=', 50000)]\n",
    "survey_user_input_line.get_sqlite(server_url, db_name, username, password, sqlite3_db_name,\n",
    "                                  search_domain, clear_table=False, initialize=False)"
   ]
  },
  {
   "cell_type": "code",
   "execution_count": 26,
   "id": "89a59bc6-54f7-4222-b8d0-08689cb5074c",
   "metadata": {},
   "outputs": [
    {
     "name": "stderr",
     "output_type": "stream",
     "text": [
      "INFO:clvsol_odoo15_jcafb21_lib.survey_user_input_line:--> search_domain: [('id', '>', 50000), ('id', '<=', 55000)]\n",
      "INFO:clvsol_odoo15_jcafb21_lib.survey_user_input_line:--> get_sqlite http://192.168.25.204:8069 clvhealth_jcafb_2021v_15\n",
      "INFO:clvsol_odoo15_jcafb21_lib.survey_user_input_line:--> Execution time: 0:00:03.324546\n",
      "INFO:clvsol_odoo15_jcafb21_lib.survey_user_input_line:--> DataFrame Shape: (5000, 21) \n",
      "\n"
     ]
    }
   ],
   "source": [
    "search_domain = [('id', '>', 50000), ('id', '<=', 55000)]\n",
    "survey_user_input_line.get_sqlite(server_url, db_name, username, password, sqlite3_db_name,\n",
    "                                  search_domain, clear_table=False, initialize=False)"
   ]
  },
  {
   "cell_type": "code",
   "execution_count": 27,
   "id": "811b7edb-3f73-43b4-afc3-d0143f62c941",
   "metadata": {},
   "outputs": [
    {
     "name": "stderr",
     "output_type": "stream",
     "text": [
      "INFO:clvsol_odoo15_jcafb21_lib.survey_user_input_line:--> search_domain: [('id', '>', 55000), ('id', '<=', 60000)]\n",
      "INFO:clvsol_odoo15_jcafb21_lib.survey_user_input_line:--> get_sqlite http://192.168.25.204:8069 clvhealth_jcafb_2021v_15\n",
      "INFO:clvsol_odoo15_jcafb21_lib.survey_user_input_line:--> Execution time: 0:00:03.579800\n",
      "INFO:clvsol_odoo15_jcafb21_lib.survey_user_input_line:--> DataFrame Shape: (5000, 21) \n",
      "\n"
     ]
    }
   ],
   "source": [
    "search_domain = [('id', '>', 55000), ('id', '<=', 60000)]\n",
    "survey_user_input_line.get_sqlite(server_url, db_name, username, password, sqlite3_db_name,\n",
    "                                  search_domain, clear_table=False, initialize=False)"
   ]
  },
  {
   "cell_type": "code",
   "execution_count": 28,
   "id": "9d1cc898-972a-4952-a5f8-e0415ad1c902",
   "metadata": {},
   "outputs": [
    {
     "name": "stderr",
     "output_type": "stream",
     "text": [
      "INFO:clvsol_odoo15_jcafb21_lib.survey_user_input_line:--> search_domain: [('id', '>', 60000), ('id', '<=', 65000)]\n",
      "INFO:clvsol_odoo15_jcafb21_lib.survey_user_input_line:--> get_sqlite http://192.168.25.204:8069 clvhealth_jcafb_2021v_15\n",
      "INFO:clvsol_odoo15_jcafb21_lib.survey_user_input_line:--> Execution time: 0:00:03.801159\n",
      "INFO:clvsol_odoo15_jcafb21_lib.survey_user_input_line:--> DataFrame Shape: (5000, 21) \n",
      "\n"
     ]
    }
   ],
   "source": [
    "search_domain = [('id', '>', 60000), ('id', '<=', 65000)]\n",
    "survey_user_input_line.get_sqlite(server_url, db_name, username, password, sqlite3_db_name,\n",
    "                                  search_domain, clear_table=False, initialize=False)"
   ]
  },
  {
   "cell_type": "code",
   "execution_count": 29,
   "id": "061620ca-07bd-40c7-9837-79ea08c3ffb7",
   "metadata": {},
   "outputs": [
    {
     "name": "stderr",
     "output_type": "stream",
     "text": [
      "INFO:clvsol_odoo15_jcafb21_lib.survey_user_input_line:--> search_domain: [('id', '>', 65000), ('id', '<=', 70000)]\n",
      "INFO:clvsol_odoo15_jcafb21_lib.survey_user_input_line:--> get_sqlite http://192.168.25.204:8069 clvhealth_jcafb_2021v_15\n",
      "INFO:clvsol_odoo15_jcafb21_lib.survey_user_input_line:--> Execution time: 0:00:03.585838\n",
      "INFO:clvsol_odoo15_jcafb21_lib.survey_user_input_line:--> DataFrame Shape: (5000, 21) \n",
      "\n"
     ]
    }
   ],
   "source": [
    "search_domain = [('id', '>', 65000), ('id', '<=', 70000)]\n",
    "survey_user_input_line.get_sqlite(server_url, db_name, username, password, sqlite3_db_name,\n",
    "                                  search_domain, clear_table=False, initialize=False)"
   ]
  },
  {
   "cell_type": "code",
   "execution_count": 30,
   "id": "b53813d6-6d27-42c1-87ea-d6a1870fbb3f",
   "metadata": {},
   "outputs": [
    {
     "name": "stderr",
     "output_type": "stream",
     "text": [
      "INFO:clvsol_odoo15_jcafb21_lib.survey_user_input_line:--> search_domain: [('id', '>', 70000), ('id', '<=', 75000)]\n",
      "INFO:clvsol_odoo15_jcafb21_lib.survey_user_input_line:--> get_sqlite http://192.168.25.204:8069 clvhealth_jcafb_2021v_15\n",
      "INFO:clvsol_odoo15_jcafb21_lib.survey_user_input_line:--> Execution time: 0:00:03.747131\n",
      "INFO:clvsol_odoo15_jcafb21_lib.survey_user_input_line:--> DataFrame Shape: (5000, 21) \n",
      "\n"
     ]
    }
   ],
   "source": [
    "search_domain = [('id', '>', 70000), ('id', '<=', 75000)]\n",
    "survey_user_input_line.get_sqlite(server_url, db_name, username, password, sqlite3_db_name,\n",
    "                                  search_domain, clear_table=False, initialize=False)"
   ]
  },
  {
   "cell_type": "code",
   "execution_count": 31,
   "id": "86a2bca6-7197-4727-8943-0aa1315081d6",
   "metadata": {},
   "outputs": [
    {
     "name": "stderr",
     "output_type": "stream",
     "text": [
      "INFO:clvsol_odoo15_jcafb21_lib.survey_user_input_line:--> search_domain: [('id', '>', 75000), ('id', '<=', 80000)]\n",
      "INFO:clvsol_odoo15_jcafb21_lib.survey_user_input_line:--> get_sqlite http://192.168.25.204:8069 clvhealth_jcafb_2021v_15\n",
      "INFO:clvsol_odoo15_jcafb21_lib.survey_user_input_line:--> Execution time: 0:00:03.447432\n",
      "INFO:clvsol_odoo15_jcafb21_lib.survey_user_input_line:--> DataFrame Shape: (5000, 21) \n",
      "\n"
     ]
    }
   ],
   "source": [
    "search_domain = [('id', '>', 75000), ('id', '<=', 80000)]\n",
    "survey_user_input_line.get_sqlite(server_url, db_name, username, password, sqlite3_db_name,\n",
    "                                  search_domain, clear_table=False, initialize=False)"
   ]
  },
  {
   "cell_type": "code",
   "execution_count": 32,
   "id": "a1c82da7-b959-42ef-a41d-7f9f6c082c09",
   "metadata": {},
   "outputs": [
    {
     "name": "stderr",
     "output_type": "stream",
     "text": [
      "INFO:clvsol_odoo15_jcafb21_lib.survey_user_input_line:--> search_domain: [('id', '>', 80000), ('id', '<=', 85000)]\n",
      "INFO:clvsol_odoo15_jcafb21_lib.survey_user_input_line:--> get_sqlite http://192.168.25.204:8069 clvhealth_jcafb_2021v_15\n",
      "INFO:clvsol_odoo15_jcafb21_lib.survey_user_input_line:--> Execution time: 0:00:03.516582\n",
      "INFO:clvsol_odoo15_jcafb21_lib.survey_user_input_line:--> DataFrame Shape: (5000, 21) \n",
      "\n"
     ]
    }
   ],
   "source": [
    "search_domain = [('id', '>', 80000), ('id', '<=', 85000)]\n",
    "survey_user_input_line.get_sqlite(server_url, db_name, username, password, sqlite3_db_name,\n",
    "                                  search_domain, clear_table=False, initialize=False)"
   ]
  },
  {
   "cell_type": "code",
   "execution_count": 33,
   "id": "4bfa5d0f-7066-448e-b444-13914afbc7d7",
   "metadata": {},
   "outputs": [
    {
     "name": "stderr",
     "output_type": "stream",
     "text": [
      "INFO:clvsol_odoo15_jcafb21_lib.survey_user_input_line:--> search_domain: [('id', '>', 85000), ('id', '<=', 90000)]\n",
      "INFO:clvsol_odoo15_jcafb21_lib.survey_user_input_line:--> get_sqlite http://192.168.25.204:8069 clvhealth_jcafb_2021v_15\n",
      "INFO:clvsol_odoo15_jcafb21_lib.survey_user_input_line:--> Execution time: 0:00:03.262463\n",
      "INFO:clvsol_odoo15_jcafb21_lib.survey_user_input_line:--> DataFrame Shape: (5000, 21) \n",
      "\n"
     ]
    }
   ],
   "source": [
    "search_domain = [('id', '>', 85000), ('id', '<=', 90000)]\n",
    "survey_user_input_line.get_sqlite(server_url, db_name, username, password, sqlite3_db_name,\n",
    "                                  search_domain, clear_table=False, initialize=False)"
   ]
  },
  {
   "cell_type": "code",
   "execution_count": 34,
   "id": "727b4104-bd72-4c8a-9815-dd392e02b87e",
   "metadata": {},
   "outputs": [
    {
     "name": "stderr",
     "output_type": "stream",
     "text": [
      "INFO:clvsol_odoo15_jcafb21_lib.survey_user_input_line:--> search_domain: [('id', '>', 90000), ('id', '<=', 95000)]\n",
      "INFO:clvsol_odoo15_jcafb21_lib.survey_user_input_line:--> get_sqlite http://192.168.25.204:8069 clvhealth_jcafb_2021v_15\n",
      "INFO:clvsol_odoo15_jcafb21_lib.survey_user_input_line:--> Execution time: 0:00:03.569809\n",
      "INFO:clvsol_odoo15_jcafb21_lib.survey_user_input_line:--> DataFrame Shape: (5000, 21) \n",
      "\n"
     ]
    }
   ],
   "source": [
    "search_domain = [('id', '>', 90000), ('id', '<=', 95000)]\n",
    "survey_user_input_line.get_sqlite(server_url, db_name, username, password, sqlite3_db_name,\n",
    "                                  search_domain, clear_table=False, initialize=False)"
   ]
  },
  {
   "cell_type": "code",
   "execution_count": 35,
   "id": "93266c56-f603-4c31-a3a9-9e4277cc4402",
   "metadata": {},
   "outputs": [
    {
     "name": "stderr",
     "output_type": "stream",
     "text": [
      "INFO:clvsol_odoo15_jcafb21_lib.survey_user_input_line:--> search_domain: [('id', '>', 95000), ('id', '<=', 100000)]\n",
      "INFO:clvsol_odoo15_jcafb21_lib.survey_user_input_line:--> get_sqlite http://192.168.25.204:8069 clvhealth_jcafb_2021v_15\n",
      "INFO:clvsol_odoo15_jcafb21_lib.survey_user_input_line:--> Execution time: 0:00:04.039631\n",
      "INFO:clvsol_odoo15_jcafb21_lib.survey_user_input_line:--> DataFrame Shape: (5000, 21) \n",
      "\n"
     ]
    }
   ],
   "source": [
    "search_domain = [('id', '>', 95000), ('id', '<=', 100000)]\n",
    "survey_user_input_line.get_sqlite(server_url, db_name, username, password, sqlite3_db_name,\n",
    "                                  search_domain, clear_table=False, initialize=False)"
   ]
  },
  {
   "cell_type": "code",
   "execution_count": 36,
   "id": "0ef206f8-a020-47d7-8d06-3896f25a88a1",
   "metadata": {},
   "outputs": [
    {
     "name": "stderr",
     "output_type": "stream",
     "text": [
      "INFO:clvsol_odoo15_jcafb21_lib.survey_user_input_line:--> search_domain: [('id', '>', 100000), ('id', '<=', 105000)]\n",
      "INFO:clvsol_odoo15_jcafb21_lib.survey_user_input_line:--> get_sqlite http://192.168.25.204:8069 clvhealth_jcafb_2021v_15\n",
      "INFO:clvsol_odoo15_jcafb21_lib.survey_user_input_line:--> Execution time: 0:00:03.416547\n",
      "INFO:clvsol_odoo15_jcafb21_lib.survey_user_input_line:--> DataFrame Shape: (5000, 21) \n",
      "\n"
     ]
    }
   ],
   "source": [
    "search_domain = [('id', '>', 100000), ('id', '<=', 105000)]\n",
    "survey_user_input_line.get_sqlite(server_url, db_name, username, password, sqlite3_db_name,\n",
    "                                  search_domain, clear_table=False, initialize=False)"
   ]
  },
  {
   "cell_type": "code",
   "execution_count": 37,
   "id": "ee9eae8b-6362-4633-a531-3fad8321b99e",
   "metadata": {},
   "outputs": [
    {
     "name": "stderr",
     "output_type": "stream",
     "text": [
      "INFO:clvsol_odoo15_jcafb21_lib.survey_user_input_line:--> search_domain: [('id', '>', 105000), ('id', '<=', 110000)]\n",
      "INFO:clvsol_odoo15_jcafb21_lib.survey_user_input_line:--> get_sqlite http://192.168.25.204:8069 clvhealth_jcafb_2021v_15\n",
      "INFO:clvsol_odoo15_jcafb21_lib.survey_user_input_line:--> Execution time: 0:00:03.444428\n",
      "INFO:clvsol_odoo15_jcafb21_lib.survey_user_input_line:--> DataFrame Shape: (5000, 21) \n",
      "\n"
     ]
    }
   ],
   "source": [
    "search_domain = [('id', '>', 105000), ('id', '<=', 110000)]\n",
    "survey_user_input_line.get_sqlite(server_url, db_name, username, password, sqlite3_db_name,\n",
    "                                  search_domain, clear_table=False, initialize=False)"
   ]
  },
  {
   "cell_type": "code",
   "execution_count": 38,
   "id": "fa8b5caf-de09-4b37-9d0f-2729022dd6b1",
   "metadata": {},
   "outputs": [
    {
     "name": "stderr",
     "output_type": "stream",
     "text": [
      "INFO:clvsol_odoo15_jcafb21_lib.survey_user_input_line:--> search_domain: [('id', '>', 110000), ('id', '<=', 115000)]\n",
      "INFO:clvsol_odoo15_jcafb21_lib.survey_user_input_line:--> get_sqlite http://192.168.25.204:8069 clvhealth_jcafb_2021v_15\n",
      "INFO:clvsol_odoo15_jcafb21_lib.survey_user_input_line:--> Execution time: 0:00:03.642576\n",
      "INFO:clvsol_odoo15_jcafb21_lib.survey_user_input_line:--> DataFrame Shape: (5000, 21) \n",
      "\n"
     ]
    }
   ],
   "source": [
    "search_domain = [('id', '>', 110000), ('id', '<=', 115000)]\n",
    "survey_user_input_line.get_sqlite(server_url, db_name, username, password, sqlite3_db_name,\n",
    "                                  search_domain, clear_table=False, initialize=False)"
   ]
  },
  {
   "cell_type": "code",
   "execution_count": 39,
   "id": "2e500855-2b73-4e71-99ab-264ef0351073",
   "metadata": {},
   "outputs": [
    {
     "name": "stderr",
     "output_type": "stream",
     "text": [
      "INFO:clvsol_odoo15_jcafb21_lib.survey_user_input_line:--> search_domain: [('id', '>', 115000), ('id', '<=', 120000)]\n",
      "INFO:clvsol_odoo15_jcafb21_lib.survey_user_input_line:--> get_sqlite http://192.168.25.204:8069 clvhealth_jcafb_2021v_15\n",
      "INFO:clvsol_odoo15_jcafb21_lib.survey_user_input_line:--> Execution time: 0:00:03.657423\n",
      "INFO:clvsol_odoo15_jcafb21_lib.survey_user_input_line:--> DataFrame Shape: (5000, 21) \n",
      "\n"
     ]
    }
   ],
   "source": [
    "search_domain = [('id', '>', 115000), ('id', '<=', 120000)]\n",
    "survey_user_input_line.get_sqlite(server_url, db_name, username, password, sqlite3_db_name,\n",
    "                                  search_domain, clear_table=False, initialize=False)"
   ]
  },
  {
   "cell_type": "code",
   "execution_count": 40,
   "id": "354121c5-0897-4cff-81f0-9049785979bd",
   "metadata": {},
   "outputs": [
    {
     "name": "stderr",
     "output_type": "stream",
     "text": [
      "INFO:clvsol_odoo15_jcafb21_lib.survey_user_input_line:--> search_domain: [('id', '>', 120000), ('id', '<=', 125000)]\n",
      "INFO:clvsol_odoo15_jcafb21_lib.survey_user_input_line:--> get_sqlite http://192.168.25.204:8069 clvhealth_jcafb_2021v_15\n",
      "INFO:clvsol_odoo15_jcafb21_lib.survey_user_input_line:--> Execution time: 0:00:03.320046\n",
      "INFO:clvsol_odoo15_jcafb21_lib.survey_user_input_line:--> DataFrame Shape: (5000, 21) \n",
      "\n"
     ]
    }
   ],
   "source": [
    "search_domain = [('id', '>', 120000), ('id', '<=', 125000)]\n",
    "survey_user_input_line.get_sqlite(server_url, db_name, username, password, sqlite3_db_name,\n",
    "                                  search_domain, clear_table=False, initialize=False)"
   ]
  },
  {
   "cell_type": "code",
   "execution_count": 41,
   "id": "7f610e02-5908-450f-8c5c-c63ee318d59b",
   "metadata": {},
   "outputs": [
    {
     "name": "stderr",
     "output_type": "stream",
     "text": [
      "INFO:clvsol_odoo15_jcafb21_lib.survey_user_input_line:--> search_domain: [('id', '>', 125000), ('id', '<=', 130000)]\n",
      "INFO:clvsol_odoo15_jcafb21_lib.survey_user_input_line:--> get_sqlite http://192.168.25.204:8069 clvhealth_jcafb_2021v_15\n",
      "INFO:clvsol_odoo15_jcafb21_lib.survey_user_input_line:--> Execution time: 0:00:03.691670\n",
      "INFO:clvsol_odoo15_jcafb21_lib.survey_user_input_line:--> DataFrame Shape: (5000, 21) \n",
      "\n"
     ]
    }
   ],
   "source": [
    "search_domain = [('id', '>', 125000), ('id', '<=', 130000)]\n",
    "survey_user_input_line.get_sqlite(server_url, db_name, username, password, sqlite3_db_name,\n",
    "                                  search_domain, clear_table=False, initialize=False)"
   ]
  },
  {
   "cell_type": "code",
   "execution_count": 42,
   "id": "be7fed2a-7f34-483b-8495-14deddfd3f01",
   "metadata": {},
   "outputs": [
    {
     "name": "stderr",
     "output_type": "stream",
     "text": [
      "INFO:clvsol_odoo15_jcafb21_lib.survey_user_input_line:--> search_domain: [('id', '>', 130000), ('id', '<=', 135000)]\n",
      "INFO:clvsol_odoo15_jcafb21_lib.survey_user_input_line:--> get_sqlite http://192.168.25.204:8069 clvhealth_jcafb_2021v_15\n",
      "INFO:clvsol_odoo15_jcafb21_lib.survey_user_input_line:--> Execution time: 0:00:03.311725\n",
      "INFO:clvsol_odoo15_jcafb21_lib.survey_user_input_line:--> DataFrame Shape: (5000, 21) \n",
      "\n"
     ]
    }
   ],
   "source": [
    "search_domain = [('id', '>', 130000), ('id', '<=', 135000)]\n",
    "survey_user_input_line.get_sqlite(server_url, db_name, username, password, sqlite3_db_name,\n",
    "                                  search_domain, clear_table=False, initialize=False)"
   ]
  },
  {
   "cell_type": "code",
   "execution_count": 43,
   "id": "b69faf83-58ee-4ac2-970c-dbd09ba7545d",
   "metadata": {},
   "outputs": [
    {
     "name": "stderr",
     "output_type": "stream",
     "text": [
      "INFO:clvsol_odoo15_jcafb21_lib.survey_user_input_line:--> search_domain: [('id', '>', 135000), ('id', '<=', 140000)]\n",
      "INFO:clvsol_odoo15_jcafb21_lib.survey_user_input_line:--> get_sqlite http://192.168.25.204:8069 clvhealth_jcafb_2021v_15\n",
      "INFO:clvsol_odoo15_jcafb21_lib.survey_user_input_line:--> Execution time: 0:00:03.460722\n",
      "INFO:clvsol_odoo15_jcafb21_lib.survey_user_input_line:--> DataFrame Shape: (5000, 21) \n",
      "\n"
     ]
    }
   ],
   "source": [
    "search_domain = [('id', '>', 135000), ('id', '<=', 140000)]\n",
    "survey_user_input_line.get_sqlite(server_url, db_name, username, password, sqlite3_db_name,\n",
    "                                  search_domain, clear_table=False, initialize=False)"
   ]
  },
  {
   "cell_type": "code",
   "execution_count": 44,
   "id": "7ab5708b-b978-47ca-b98c-3edbe39274ae",
   "metadata": {},
   "outputs": [
    {
     "name": "stderr",
     "output_type": "stream",
     "text": [
      "INFO:clvsol_odoo15_jcafb21_lib.survey_user_input_line:--> search_domain: [('id', '>', 140000)]\n",
      "INFO:clvsol_odoo15_jcafb21_lib.survey_user_input_line:--> get_sqlite http://192.168.25.204:8069 clvhealth_jcafb_2021v_15\n",
      "INFO:clvsol_odoo15_jcafb21_lib.survey_user_input_line:--> Execution time: 0:00:03.278725\n",
      "INFO:clvsol_odoo15_jcafb21_lib.survey_user_input_line:--> DataFrame Shape: (4536, 21) \n",
      "\n"
     ]
    }
   ],
   "source": [
    "search_domain = [('id', '>', 140000)]\n",
    "survey_user_input_line.get_sqlite(server_url, db_name, username, password, sqlite3_db_name,\n",
    "                                  search_domain, clear_table=False, initialize=False)"
   ]
  },
  {
   "cell_type": "markdown",
   "id": "d9bc8ed1-b796-4bad-bbc1-35d57854a2a2",
   "metadata": {},
   "source": [
    "## Importação dos dados de \"clv.partner_entity.street_pattern\""
   ]
  },
  {
   "cell_type": "code",
   "execution_count": 45,
   "id": "f0178e0a-4c23-49cf-a08e-4ab9cbb31a50",
   "metadata": {},
   "outputs": [
    {
     "name": "stderr",
     "output_type": "stream",
     "text": [
      "INFO:clvsol_odoo15_jcafb21_lib.clv_partner_entity_street_pattern:--> get_sqlite http://192.168.25.204:8069 clvhealth_jcafb_2021v_15\n",
      "INFO:clvsol_odoo15_jcafb21_lib.clv_partner_entity_street_pattern:--> Execution time: 0:00:00.175535 \n",
      "\n"
     ]
    }
   ],
   "source": [
    "clv_partner_entity_street_pattern = clv_partner_entity_street_pattern.get_sqlite(server_url, db_name, username, password, sqlite3_db_name, initialize=False)\n"
   ]
  },
  {
   "cell_type": "markdown",
   "id": "928c045e-fded-4c0b-9667-c4c6c6c9f40e",
   "metadata": {},
   "source": [
    "## Importação dos dados de \"clv.partner_entity.contact_information_pattern\""
   ]
  },
  {
   "cell_type": "code",
   "execution_count": 46,
   "id": "6a6e53cc-1948-48d5-a845-8b3941810315",
   "metadata": {},
   "outputs": [
    {
     "name": "stderr",
     "output_type": "stream",
     "text": [
      "INFO:clvsol_odoo15_jcafb21_lib.clv_partner_entity_contact_information_pattern:--> get_sqlite http://192.168.25.204:8069 clvhealth_jcafb_2021v_15\n",
      "INFO:clvsol_odoo15_jcafb21_lib.clv_partner_entity_contact_information_pattern:--> Execution time: 0:00:00.150563 \n",
      "\n"
     ]
    }
   ],
   "source": [
    "clv_partner_entity_contact_information_pattern = \\\n",
    "    clv_partner_entity_contact_information_pattern.get_sqlite(server_url, db_name, username, password, sqlite3_db_name, initialize=False)\n"
   ]
  },
  {
   "cell_type": "markdown",
   "id": "997c396f-25a2-4b00-a8e1-b68d71012976",
   "metadata": {},
   "source": [
    "## Importação dos dados de \"clv_patient_category\""
   ]
  },
  {
   "cell_type": "code",
   "execution_count": 47,
   "id": "32071591-b6c1-4787-a4a5-db6fee546b3b",
   "metadata": {},
   "outputs": [
    {
     "name": "stderr",
     "output_type": "stream",
     "text": [
      "INFO:clvsol_odoo15_jcafb21_lib.clv_patient_category:--> get_sqlite http://192.168.25.204:8069 clvhealth_jcafb_2021v_15\n",
      "INFO:clvsol_odoo15_jcafb21_lib.clv_patient_category:--> Execution time: 0:00:00.149667 \n",
      "\n"
     ]
    }
   ],
   "source": [
    "clv_patient_category = clv_patient_category.get_sqlite(server_url, db_name, username, password, sqlite3_db_name, initialize=False)\n"
   ]
  },
  {
   "cell_type": "markdown",
   "id": "e22fd838-6940-4873-8b9c-3e850ffc05bc",
   "metadata": {},
   "source": [
    "## Importação dos dados de \"clv_patient_marker\""
   ]
  },
  {
   "cell_type": "code",
   "execution_count": 48,
   "id": "33aff31a-d19e-4382-a9e7-35a312982269",
   "metadata": {},
   "outputs": [
    {
     "name": "stderr",
     "output_type": "stream",
     "text": [
      "INFO:clvsol_odoo15_jcafb21_lib.clv_patient_marker:--> get_sqlite http://192.168.25.204:8069 clvhealth_jcafb_2021v_15\n",
      "INFO:clvsol_odoo15_jcafb21_lib.clv_patient_marker:--> Execution time: 0:00:00.138633 \n",
      "\n"
     ]
    }
   ],
   "source": [
    "clv_patient_marker = clv_patient_marker.get_sqlite(server_url, db_name, username, password, sqlite3_db_name, initialize=False)\n"
   ]
  },
  {
   "cell_type": "markdown",
   "id": "f5c6b9c0-cf72-451b-829f-30d9cf86216f",
   "metadata": {},
   "source": [
    "## Importação dos dados de \"clv_patient_tag\""
   ]
  },
  {
   "cell_type": "code",
   "execution_count": 49,
   "id": "42723220-e891-4bcb-8886-f5687ed754c5",
   "metadata": {},
   "outputs": [
    {
     "name": "stderr",
     "output_type": "stream",
     "text": [
      "INFO:clvsol_odoo15_jcafb21_lib.clv_patient_tag:--> get_sqlite http://192.168.25.204:8069 clvhealth_jcafb_2021v_15\n",
      "INFO:clvsol_odoo15_jcafb21_lib.clv_patient_tag:--> Execution time: 0:00:00.110187 \n",
      "\n"
     ]
    }
   ],
   "source": [
    "clv_patient_tag = clv_patient_tag.get_sqlite(server_url, db_name, username, password, sqlite3_db_name, initialize=False)\n",
    "\n",
    "# print(patient_tags)\n"
   ]
  },
  {
   "cell_type": "markdown",
   "id": "2e57610c-b6ca-4063-a8d0-37dc8c39b3b0",
   "metadata": {},
   "source": [
    "## Importação dos dados de \"clv_patient\""
   ]
  },
  {
   "cell_type": "code",
   "execution_count": 50,
   "id": "e5822e10-b6e7-4cca-a1f0-2d938d5290aa",
   "metadata": {},
   "outputs": [
    {
     "name": "stderr",
     "output_type": "stream",
     "text": [
      "INFO:clvsol_odoo15_jcafb21_lib.clv_patient:--> get_sqlite http://192.168.25.204:8069 clvhealth_jcafb_2021v_15\n",
      "INFO:clvsol_odoo15_jcafb21_lib.clv_patient:--> Execution time: 0:00:01.861701 \n",
      "\n"
     ]
    }
   ],
   "source": [
    "clv_patient = clv_patient.get_sqlite(server_url, db_name, username, password, sqlite3_db_name,\n",
    "                                  clv_patient_category,\n",
    "                                  clv_patient_marker,\n",
    "                                  clv_patient_tag,\n",
    "                                  initialize=False)\n"
   ]
  },
  {
   "cell_type": "code",
   "execution_count": 51,
   "id": "46292d3b-336d-47bd-bd82-a72145a69d25",
   "metadata": {},
   "outputs": [
    {
     "name": "stdout",
     "output_type": "stream",
     "text": [
      "--> Execution time: 0:02:03.054660 \n",
      "\n"
     ]
    }
   ],
   "source": [
    "print('--> Execution time:', secondsToStr(time() - start_import), '\\n')\n"
   ]
  }
 ],
 "metadata": {
  "kernelspec": {
   "display_name": "Python 3 (ipykernel)",
   "language": "python",
   "name": "python3"
  },
  "language_info": {
   "codemirror_mode": {
    "name": "ipython",
    "version": 3
   },
   "file_extension": ".py",
   "mimetype": "text/x-python",
   "name": "python",
   "nbconvert_exporter": "python",
   "pygments_lexer": "ipython3",
   "version": "3.12.2"
  }
 },
 "nbformat": 4,
 "nbformat_minor": 5
}
